{
  "nbformat": 4,
  "nbformat_minor": 0,
  "metadata": {
    "colab": {
      "provenance": [],
      "mount_file_id": "1TJ_oQESJAiHXklRuRdaryYZqRrpt5zH1",
      "authorship_tag": "ABX9TyOqxv05O3KGpOnctPRNj1tf",
      "include_colab_link": true
    },
    "kernelspec": {
      "name": "python3",
      "display_name": "Python 3"
    },
    "language_info": {
      "name": "python"
    }
  },
  "cells": [
    {
      "cell_type": "markdown",
      "metadata": {
        "id": "view-in-github",
        "colab_type": "text"
      },
      "source": [
        "<a href=\"https://colab.research.google.com/github/Arturo9314/Data_Analysis/blob/main/01-FB/Financial_Budget_Analysis.ipynb\" target=\"_parent\"><img src=\"https://colab.research.google.com/assets/colab-badge.svg\" alt=\"Open In Colab\"/></a>"
      ]
    },
    {
      "cell_type": "markdown",
      "source": [
        "# **Financial Budget Analysis**\n"
      ],
      "metadata": {
        "id": "iSc-HO7WHQp0"
      }
    },
    {
      "cell_type": "markdown",
      "source": [
        "Every nation has a financial budget that details the goverment's ability to spend money on various facets of the economy.\n"
      ],
      "metadata": {
        "id": "s7QGXdJtHf99"
      }
    },
    {
      "cell_type": "markdown",
      "source": [
        "I begin by importing the required Python libraries and dataset containing information on the Mexican goverment's proposed fiscal year 2023 budget.\n",
        "\n",
        "[dataset](https://www.transparenciapresupuestaria.gob.mx/es/PTP/Infografia_PPEF_2023)\n",
        "\n"
      ],
      "metadata": {
        "id": "nFzJwo2hKyIJ"
      }
    },
    {
      "cell_type": "code",
      "source": [
        "from google.colab import drive\n",
        "drive.mount('/content/drive')\n"
      ],
      "metadata": {
        "colab": {
          "base_uri": "https://localhost:8080/"
        },
        "id": "trpsmrFKtR2Z",
        "outputId": "ba38de30-c8d1-49c4-fc53-3070718f3541"
      },
      "execution_count": 88,
      "outputs": [
        {
          "output_type": "stream",
          "name": "stdout",
          "text": [
            "Drive already mounted at /content/drive; to attempt to forcibly remount, call drive.mount(\"/content/drive\", force_remount=True).\n"
          ]
        }
      ]
    },
    {
      "cell_type": "code",
      "execution_count": 89,
      "metadata": {
        "colab": {
          "base_uri": "https://localhost:8080/",
          "height": 595
        },
        "id": "omDGcWMgsATU",
        "outputId": "5f3eb65e-4df3-418f-f1f1-6e1a5234613b"
      },
      "outputs": [
        {
          "output_type": "stream",
          "name": "stderr",
          "text": [
            "<ipython-input-89-909986e929f0>:4: DtypeWarning: Columns (31) have mixed types. Specify dtype option on import or set low_memory=False.\n",
            "  data = pd.read_csv(\"/content/drive/MyDrive/Data Analysis/Financial Budget/PPEF_2023.csv\", encoding=\"latin-1\")\n"
          ]
        },
        {
          "output_type": "execute_result",
          "data": {
            "text/plain": [
              "   CICLO  ID_RAMO          DESC_RAMO ID_UR                 DESC_UR  \\\n",
              "0   2023        1  Poder Legislativo   100  H. Cámara de Diputados   \n",
              "1   2023        1  Poder Legislativo   100  H. Cámara de Diputados   \n",
              "2   2023        1  Poder Legislativo   100  H. Cámara de Diputados   \n",
              "3   2023        1  Poder Legislativo   100  H. Cámara de Diputados   \n",
              "4   2023        1  Poder Legislativo   100  H. Cámara de Diputados   \n",
              "\n",
              "   GPO_FUNCIONAL DESC_GPO_FUNCIONAL  ID_FUNCION DESC_FUNCION  ID_SUBFUNCION  \\\n",
              "0              1           Gobierno           1  Legislación              1   \n",
              "1              1           Gobierno           1  Legislación              1   \n",
              "2              1           Gobierno           1  Legislación              1   \n",
              "3              1           Gobierno           1  Legislación              1   \n",
              "4              1           Gobierno           1  Legislación              1   \n",
              "\n",
              "   ... ID_PARTIDA_ESPECIFICA  \\\n",
              "0  ...                 62201   \n",
              "1  ...                 11101   \n",
              "2  ...                 11301   \n",
              "3  ...                 12101   \n",
              "4  ...                 12301   \n",
              "\n",
              "                             DESC_PARTIDA_ESPECIFICA ID_TIPOGASTO  \\\n",
              "0  Obras de construcción para edificios no habita...            3   \n",
              "1                           Dietas (Ramos Autónomos)            1   \n",
              "2                                       Sueldos base            1   \n",
              "3                                         Honorarios            1   \n",
              "4     Retribuciones por servicios de carácter social            1   \n",
              "\n",
              "          DESC_TIPOGASTO ID_FF            DESC_FF ID_ENTIDAD_FEDERATIVA  \\\n",
              "0  Gasto de obra pública     1  Recursos fiscales                     9   \n",
              "1        Gasto corriente     1  Recursos fiscales                     9   \n",
              "2        Gasto corriente     1  Recursos fiscales                     9   \n",
              "3        Gasto corriente     1  Recursos fiscales                     9   \n",
              "4        Gasto corriente     1  Recursos fiscales                     9   \n",
              "\n",
              "   ENTIDAD_FEDERATIVA ID_CLAVE_CARTERA   MONTO_PROYECTO  \n",
              "0    Ciudad de México                0   404,400,000.0   \n",
              "1    Ciudad de México                0   632,268,000.0   \n",
              "2    Ciudad de México                0   571,150,100.0   \n",
              "3    Ciudad de México                0   992,069,294.0   \n",
              "4    Ciudad de México                0     1,992,000.0   \n",
              "\n",
              "[5 rows x 33 columns]"
            ],
            "text/html": [
              "\n",
              "\n",
              "  <div id=\"df-05328340-e91d-4a1d-a5cf-2c5d83a6519c\">\n",
              "    <div class=\"colab-df-container\">\n",
              "      <div>\n",
              "<style scoped>\n",
              "    .dataframe tbody tr th:only-of-type {\n",
              "        vertical-align: middle;\n",
              "    }\n",
              "\n",
              "    .dataframe tbody tr th {\n",
              "        vertical-align: top;\n",
              "    }\n",
              "\n",
              "    .dataframe thead th {\n",
              "        text-align: right;\n",
              "    }\n",
              "</style>\n",
              "<table border=\"1\" class=\"dataframe\">\n",
              "  <thead>\n",
              "    <tr style=\"text-align: right;\">\n",
              "      <th></th>\n",
              "      <th>CICLO</th>\n",
              "      <th>ID_RAMO</th>\n",
              "      <th>DESC_RAMO</th>\n",
              "      <th>ID_UR</th>\n",
              "      <th>DESC_UR</th>\n",
              "      <th>GPO_FUNCIONAL</th>\n",
              "      <th>DESC_GPO_FUNCIONAL</th>\n",
              "      <th>ID_FUNCION</th>\n",
              "      <th>DESC_FUNCION</th>\n",
              "      <th>ID_SUBFUNCION</th>\n",
              "      <th>...</th>\n",
              "      <th>ID_PARTIDA_ESPECIFICA</th>\n",
              "      <th>DESC_PARTIDA_ESPECIFICA</th>\n",
              "      <th>ID_TIPOGASTO</th>\n",
              "      <th>DESC_TIPOGASTO</th>\n",
              "      <th>ID_FF</th>\n",
              "      <th>DESC_FF</th>\n",
              "      <th>ID_ENTIDAD_FEDERATIVA</th>\n",
              "      <th>ENTIDAD_FEDERATIVA</th>\n",
              "      <th>ID_CLAVE_CARTERA</th>\n",
              "      <th>MONTO_PROYECTO</th>\n",
              "    </tr>\n",
              "  </thead>\n",
              "  <tbody>\n",
              "    <tr>\n",
              "      <th>0</th>\n",
              "      <td>2023</td>\n",
              "      <td>1</td>\n",
              "      <td>Poder Legislativo</td>\n",
              "      <td>100</td>\n",
              "      <td>H. Cámara de Diputados</td>\n",
              "      <td>1</td>\n",
              "      <td>Gobierno</td>\n",
              "      <td>1</td>\n",
              "      <td>Legislación</td>\n",
              "      <td>1</td>\n",
              "      <td>...</td>\n",
              "      <td>62201</td>\n",
              "      <td>Obras de construcción para edificios no habita...</td>\n",
              "      <td>3</td>\n",
              "      <td>Gasto de obra pública</td>\n",
              "      <td>1</td>\n",
              "      <td>Recursos fiscales</td>\n",
              "      <td>9</td>\n",
              "      <td>Ciudad de México</td>\n",
              "      <td>0</td>\n",
              "      <td>404,400,000.0</td>\n",
              "    </tr>\n",
              "    <tr>\n",
              "      <th>1</th>\n",
              "      <td>2023</td>\n",
              "      <td>1</td>\n",
              "      <td>Poder Legislativo</td>\n",
              "      <td>100</td>\n",
              "      <td>H. Cámara de Diputados</td>\n",
              "      <td>1</td>\n",
              "      <td>Gobierno</td>\n",
              "      <td>1</td>\n",
              "      <td>Legislación</td>\n",
              "      <td>1</td>\n",
              "      <td>...</td>\n",
              "      <td>11101</td>\n",
              "      <td>Dietas (Ramos Autónomos)</td>\n",
              "      <td>1</td>\n",
              "      <td>Gasto corriente</td>\n",
              "      <td>1</td>\n",
              "      <td>Recursos fiscales</td>\n",
              "      <td>9</td>\n",
              "      <td>Ciudad de México</td>\n",
              "      <td>0</td>\n",
              "      <td>632,268,000.0</td>\n",
              "    </tr>\n",
              "    <tr>\n",
              "      <th>2</th>\n",
              "      <td>2023</td>\n",
              "      <td>1</td>\n",
              "      <td>Poder Legislativo</td>\n",
              "      <td>100</td>\n",
              "      <td>H. Cámara de Diputados</td>\n",
              "      <td>1</td>\n",
              "      <td>Gobierno</td>\n",
              "      <td>1</td>\n",
              "      <td>Legislación</td>\n",
              "      <td>1</td>\n",
              "      <td>...</td>\n",
              "      <td>11301</td>\n",
              "      <td>Sueldos base</td>\n",
              "      <td>1</td>\n",
              "      <td>Gasto corriente</td>\n",
              "      <td>1</td>\n",
              "      <td>Recursos fiscales</td>\n",
              "      <td>9</td>\n",
              "      <td>Ciudad de México</td>\n",
              "      <td>0</td>\n",
              "      <td>571,150,100.0</td>\n",
              "    </tr>\n",
              "    <tr>\n",
              "      <th>3</th>\n",
              "      <td>2023</td>\n",
              "      <td>1</td>\n",
              "      <td>Poder Legislativo</td>\n",
              "      <td>100</td>\n",
              "      <td>H. Cámara de Diputados</td>\n",
              "      <td>1</td>\n",
              "      <td>Gobierno</td>\n",
              "      <td>1</td>\n",
              "      <td>Legislación</td>\n",
              "      <td>1</td>\n",
              "      <td>...</td>\n",
              "      <td>12101</td>\n",
              "      <td>Honorarios</td>\n",
              "      <td>1</td>\n",
              "      <td>Gasto corriente</td>\n",
              "      <td>1</td>\n",
              "      <td>Recursos fiscales</td>\n",
              "      <td>9</td>\n",
              "      <td>Ciudad de México</td>\n",
              "      <td>0</td>\n",
              "      <td>992,069,294.0</td>\n",
              "    </tr>\n",
              "    <tr>\n",
              "      <th>4</th>\n",
              "      <td>2023</td>\n",
              "      <td>1</td>\n",
              "      <td>Poder Legislativo</td>\n",
              "      <td>100</td>\n",
              "      <td>H. Cámara de Diputados</td>\n",
              "      <td>1</td>\n",
              "      <td>Gobierno</td>\n",
              "      <td>1</td>\n",
              "      <td>Legislación</td>\n",
              "      <td>1</td>\n",
              "      <td>...</td>\n",
              "      <td>12301</td>\n",
              "      <td>Retribuciones por servicios de carácter social</td>\n",
              "      <td>1</td>\n",
              "      <td>Gasto corriente</td>\n",
              "      <td>1</td>\n",
              "      <td>Recursos fiscales</td>\n",
              "      <td>9</td>\n",
              "      <td>Ciudad de México</td>\n",
              "      <td>0</td>\n",
              "      <td>1,992,000.0</td>\n",
              "    </tr>\n",
              "  </tbody>\n",
              "</table>\n",
              "<p>5 rows × 33 columns</p>\n",
              "</div>\n",
              "      <button class=\"colab-df-convert\" onclick=\"convertToInteractive('df-05328340-e91d-4a1d-a5cf-2c5d83a6519c')\"\n",
              "              title=\"Convert this dataframe to an interactive table.\"\n",
              "              style=\"display:none;\">\n",
              "\n",
              "  <svg xmlns=\"http://www.w3.org/2000/svg\" height=\"24px\"viewBox=\"0 0 24 24\"\n",
              "       width=\"24px\">\n",
              "    <path d=\"M0 0h24v24H0V0z\" fill=\"none\"/>\n",
              "    <path d=\"M18.56 5.44l.94 2.06.94-2.06 2.06-.94-2.06-.94-.94-2.06-.94 2.06-2.06.94zm-11 1L8.5 8.5l.94-2.06 2.06-.94-2.06-.94L8.5 2.5l-.94 2.06-2.06.94zm10 10l.94 2.06.94-2.06 2.06-.94-2.06-.94-.94-2.06-.94 2.06-2.06.94z\"/><path d=\"M17.41 7.96l-1.37-1.37c-.4-.4-.92-.59-1.43-.59-.52 0-1.04.2-1.43.59L10.3 9.45l-7.72 7.72c-.78.78-.78 2.05 0 2.83L4 21.41c.39.39.9.59 1.41.59.51 0 1.02-.2 1.41-.59l7.78-7.78 2.81-2.81c.8-.78.8-2.07 0-2.86zM5.41 20L4 18.59l7.72-7.72 1.47 1.35L5.41 20z\"/>\n",
              "  </svg>\n",
              "      </button>\n",
              "\n",
              "\n",
              "\n",
              "    <div id=\"df-e50c64a3-cc8e-4a2a-aa45-7e5b32a17716\">\n",
              "      <button class=\"colab-df-quickchart\" onclick=\"quickchart('df-e50c64a3-cc8e-4a2a-aa45-7e5b32a17716')\"\n",
              "              title=\"Suggest charts.\"\n",
              "              style=\"display:none;\">\n",
              "\n",
              "<svg xmlns=\"http://www.w3.org/2000/svg\" height=\"24px\"viewBox=\"0 0 24 24\"\n",
              "     width=\"24px\">\n",
              "    <g>\n",
              "        <path d=\"M19 3H5c-1.1 0-2 .9-2 2v14c0 1.1.9 2 2 2h14c1.1 0 2-.9 2-2V5c0-1.1-.9-2-2-2zM9 17H7v-7h2v7zm4 0h-2V7h2v10zm4 0h-2v-4h2v4z\"/>\n",
              "    </g>\n",
              "</svg>\n",
              "      </button>\n",
              "    </div>\n",
              "\n",
              "<style>\n",
              "  .colab-df-quickchart {\n",
              "    background-color: #E8F0FE;\n",
              "    border: none;\n",
              "    border-radius: 50%;\n",
              "    cursor: pointer;\n",
              "    display: none;\n",
              "    fill: #1967D2;\n",
              "    height: 32px;\n",
              "    padding: 0 0 0 0;\n",
              "    width: 32px;\n",
              "  }\n",
              "\n",
              "  .colab-df-quickchart:hover {\n",
              "    background-color: #E2EBFA;\n",
              "    box-shadow: 0px 1px 2px rgba(60, 64, 67, 0.3), 0px 1px 3px 1px rgba(60, 64, 67, 0.15);\n",
              "    fill: #174EA6;\n",
              "  }\n",
              "\n",
              "  [theme=dark] .colab-df-quickchart {\n",
              "    background-color: #3B4455;\n",
              "    fill: #D2E3FC;\n",
              "  }\n",
              "\n",
              "  [theme=dark] .colab-df-quickchart:hover {\n",
              "    background-color: #434B5C;\n",
              "    box-shadow: 0px 1px 3px 1px rgba(0, 0, 0, 0.15);\n",
              "    filter: drop-shadow(0px 1px 2px rgba(0, 0, 0, 0.3));\n",
              "    fill: #FFFFFF;\n",
              "  }\n",
              "</style>\n",
              "\n",
              "    <script>\n",
              "      async function quickchart(key) {\n",
              "        const containerElement = document.querySelector('#' + key);\n",
              "        const charts = await google.colab.kernel.invokeFunction(\n",
              "            'suggestCharts', [key], {});\n",
              "      }\n",
              "    </script>\n",
              "\n",
              "\n",
              "      <script>\n",
              "\n",
              "function displayQuickchartButton(domScope) {\n",
              "  let quickchartButtonEl =\n",
              "    domScope.querySelector('#df-e50c64a3-cc8e-4a2a-aa45-7e5b32a17716 button.colab-df-quickchart');\n",
              "  quickchartButtonEl.style.display =\n",
              "    google.colab.kernel.accessAllowed ? 'block' : 'none';\n",
              "}\n",
              "\n",
              "        displayQuickchartButton(document);\n",
              "      </script>\n",
              "      <style>\n",
              "    .colab-df-container {\n",
              "      display:flex;\n",
              "      flex-wrap:wrap;\n",
              "      gap: 12px;\n",
              "    }\n",
              "\n",
              "    .colab-df-convert {\n",
              "      background-color: #E8F0FE;\n",
              "      border: none;\n",
              "      border-radius: 50%;\n",
              "      cursor: pointer;\n",
              "      display: none;\n",
              "      fill: #1967D2;\n",
              "      height: 32px;\n",
              "      padding: 0 0 0 0;\n",
              "      width: 32px;\n",
              "    }\n",
              "\n",
              "    .colab-df-convert:hover {\n",
              "      background-color: #E2EBFA;\n",
              "      box-shadow: 0px 1px 2px rgba(60, 64, 67, 0.3), 0px 1px 3px 1px rgba(60, 64, 67, 0.15);\n",
              "      fill: #174EA6;\n",
              "    }\n",
              "\n",
              "    [theme=dark] .colab-df-convert {\n",
              "      background-color: #3B4455;\n",
              "      fill: #D2E3FC;\n",
              "    }\n",
              "\n",
              "    [theme=dark] .colab-df-convert:hover {\n",
              "      background-color: #434B5C;\n",
              "      box-shadow: 0px 1px 3px 1px rgba(0, 0, 0, 0.15);\n",
              "      filter: drop-shadow(0px 1px 2px rgba(0, 0, 0, 0.3));\n",
              "      fill: #FFFFFF;\n",
              "    }\n",
              "  </style>\n",
              "\n",
              "      <script>\n",
              "        const buttonEl =\n",
              "          document.querySelector('#df-05328340-e91d-4a1d-a5cf-2c5d83a6519c button.colab-df-convert');\n",
              "        buttonEl.style.display =\n",
              "          google.colab.kernel.accessAllowed ? 'block' : 'none';\n",
              "\n",
              "        async function convertToInteractive(key) {\n",
              "          const element = document.querySelector('#df-05328340-e91d-4a1d-a5cf-2c5d83a6519c');\n",
              "          const dataTable =\n",
              "            await google.colab.kernel.invokeFunction('convertToInteractive',\n",
              "                                                     [key], {});\n",
              "          if (!dataTable) return;\n",
              "\n",
              "          const docLinkHtml = 'Like what you see? Visit the ' +\n",
              "            '<a target=\"_blank\" href=https://colab.research.google.com/notebooks/data_table.ipynb>data table notebook</a>'\n",
              "            + ' to learn more about interactive tables.';\n",
              "          element.innerHTML = '';\n",
              "          dataTable['output_type'] = 'display_data';\n",
              "          await google.colab.output.renderOutput(dataTable, element);\n",
              "          const docLink = document.createElement('div');\n",
              "          docLink.innerHTML = docLinkHtml;\n",
              "          element.appendChild(docLink);\n",
              "        }\n",
              "      </script>\n",
              "    </div>\n",
              "  </div>\n"
            ]
          },
          "metadata": {},
          "execution_count": 89
        }
      ],
      "source": [
        "import numpy as np\n",
        "import pandas as pd\n",
        "import matplotlib.pyplot as plt\n",
        "data = pd.read_csv(\"/content/drive/MyDrive/Data Analysis/Financial Budget/PPEF_2023.csv\", encoding=\"latin-1\")\n",
        "data.head()"
      ]
    },
    {
      "cell_type": "markdown",
      "source": [
        "Let's examine each label that is included in this budget"
      ],
      "metadata": {
        "id": "arbLgiLpLX7f"
      }
    },
    {
      "cell_type": "code",
      "source": [
        "data.columns"
      ],
      "metadata": {
        "colab": {
          "base_uri": "https://localhost:8080/"
        },
        "id": "Sk2Kbn0V6y41",
        "outputId": "2ffc03a5-07cc-482d-d0ff-3cbe6a1aef0a"
      },
      "execution_count": 90,
      "outputs": [
        {
          "output_type": "execute_result",
          "data": {
            "text/plain": [
              "Index(['CICLO', 'ID_RAMO', 'DESC_RAMO', 'ID_UR', 'DESC_UR', 'GPO_FUNCIONAL',\n",
              "       'DESC_GPO_FUNCIONAL', 'ID_FUNCION', 'DESC_FUNCION', 'ID_SUBFUNCION',\n",
              "       'DESC_SUBFUNCION', 'ID_AI', 'DESC_AI', 'ID_MODALIDAD', 'DESC_MODALIDAD',\n",
              "       'ID_PP', 'DESC_PP', 'ID_CAPITULO', 'DESC_CAPITULO', 'ID_CONCEPTO',\n",
              "       'DESC_CONCEPTO', 'ID_PARTIDA_GENERICA', 'DESC_PARTIDA_GENERICA',\n",
              "       'ID_PARTIDA_ESPECIFICA', 'DESC_PARTIDA_ESPECIFICA', 'ID_TIPOGASTO',\n",
              "       'DESC_TIPOGASTO', 'ID_FF', 'DESC_FF', 'ID_ENTIDAD_FEDERATIVA',\n",
              "       'ENTIDAD_FEDERATIVA', 'ID_CLAVE_CARTERA', 'MONTO_PROYECTO'],\n",
              "      dtype='object')"
            ]
          },
          "metadata": {},
          "execution_count": 90
        }
      ]
    },
    {
      "cell_type": "markdown",
      "source": [
        "In order to prepare the data, let's choose just two columns of data, which will help us describe expenditure that make it possible to track the actions taken by the state to advance its governmental, economic, and social goals."
      ],
      "metadata": {
        "id": "N6-hDUC8MBIT"
      }
    },
    {
      "cell_type": "code",
      "source": [
        "df = data.loc[:, [\"DESC_GPO_FUNCIONAL\",\"MONTO_PROYECTO\"]]\n",
        "print(df)"
      ],
      "metadata": {
        "colab": {
          "base_uri": "https://localhost:8080/"
        },
        "id": "ZccL0AYmsjKt",
        "outputId": "462f1138-dd3f-4268-c502-bdd62fe3344a"
      },
      "execution_count": 91,
      "outputs": [
        {
          "output_type": "stream",
          "name": "stdout",
          "text": [
            "          DESC_GPO_FUNCIONAL     MONTO_PROYECTO\n",
            "0                   Gobierno     404,400,000.0 \n",
            "1                   Gobierno     632,268,000.0 \n",
            "2                   Gobierno     571,150,100.0 \n",
            "3                   Gobierno     992,069,294.0 \n",
            "4                   Gobierno       1,992,000.0 \n",
            "...                      ...                ...\n",
            "149060  Desarrollo Económico       1,135,982.0 \n",
            "149061  Desarrollo Económico       1,538,569.0 \n",
            "149062  Desarrollo Económico           5,350.0 \n",
            "149063  Desarrollo Económico      10,226,115.0 \n",
            "149064  Desarrollo Económico   7,806,611,287.0 \n",
            "\n",
            "[149065 rows x 2 columns]\n"
          ]
        }
      ]
    },
    {
      "cell_type": "markdown",
      "source": [
        "The amount column is not a numeric column, as can be seen."
      ],
      "metadata": {
        "id": "1xQHKEomNiwb"
      }
    },
    {
      "cell_type": "code",
      "source": [
        "df.dtypes"
      ],
      "metadata": {
        "colab": {
          "base_uri": "https://localhost:8080/"
        },
        "id": "XHpqs1rCubB2",
        "outputId": "60a9e556-d8af-4a63-9332-13f08ebea8e9"
      },
      "execution_count": 92,
      "outputs": [
        {
          "output_type": "execute_result",
          "data": {
            "text/plain": [
              "DESC_GPO_FUNCIONAL    object\n",
              "MONTO_PROYECTO        object\n",
              "dtype: object"
            ]
          },
          "metadata": {},
          "execution_count": 92
        }
      ]
    },
    {
      "cell_type": "markdown",
      "source": [
        "So let's transform the type of the column"
      ],
      "metadata": {
        "id": "4A3f0OpGN0WN"
      }
    },
    {
      "cell_type": "code",
      "source": [
        "df['MONTO_PROYECTO'] = df['MONTO_PROYECTO'].str.replace(',', '').astype(float)"
      ],
      "metadata": {
        "id": "02RedzoO2Yio"
      },
      "execution_count": 93,
      "outputs": []
    },
    {
      "cell_type": "code",
      "source": [
        "df.dtypes"
      ],
      "metadata": {
        "colab": {
          "base_uri": "https://localhost:8080/"
        },
        "id": "o9s_MSoG5Ls2",
        "outputId": "e10a5b00-d1de-4857-f32f-b86acdf90a30"
      },
      "execution_count": 94,
      "outputs": [
        {
          "output_type": "execute_result",
          "data": {
            "text/plain": [
              "DESC_GPO_FUNCIONAL     object\n",
              "MONTO_PROYECTO        float64\n",
              "dtype: object"
            ]
          },
          "metadata": {},
          "execution_count": 94
        }
      ]
    },
    {
      "cell_type": "markdown",
      "source": [
        "Now it is possible to group"
      ],
      "metadata": {
        "id": "BrLfZhGqN9mC"
      }
    },
    {
      "cell_type": "code",
      "source": [
        "groups = df.groupby(\"DESC_GPO_FUNCIONAL\")['MONTO_PROYECTO'].sum()\n",
        "print(groups)"
      ],
      "metadata": {
        "colab": {
          "base_uri": "https://localhost:8080/"
        },
        "id": "3zlFRmAq6awE",
        "outputId": "3e136075-23db-483d-f025-345d0f65eeb0"
      },
      "execution_count": 95,
      "outputs": [
        {
          "output_type": "stream",
          "name": "stdout",
          "text": [
            "DESC_GPO_FUNCIONAL\n",
            "Desarrollo Económico                             1.831631e+12\n",
            "Desarrollo Social                                4.979214e+12\n",
            "Gobierno                                         4.975380e+11\n",
            "Otras no Clasificadas en Funciones Anteriores    2.157464e+12\n",
            "Name: MONTO_PROYECTO, dtype: float64\n"
          ]
        }
      ]
    },
    {
      "cell_type": "markdown",
      "source": [
        "Now let’s plot this data to have a look at the priorities of the government for the financial year:"
      ],
      "metadata": {
        "id": "sQ_IvZZfOEuN"
      }
    },
    {
      "cell_type": "code",
      "source": [
        "groups.plot(kind='barh', ylabel='Government services', xlabel='Millions of Mexican pesos', color=(.9215, .7764, .2039, 0.5))"
      ],
      "metadata": {
        "colab": {
          "base_uri": "https://localhost:8080/",
          "height": 474
        },
        "id": "KXe6Kpjt6dxi",
        "outputId": "4986925f-9d0a-4010-ac99-0a11c01cbd5f"
      },
      "execution_count": 96,
      "outputs": [
        {
          "output_type": "execute_result",
          "data": {
            "text/plain": [
              "<Axes: xlabel='Millions of Mexican pesos', ylabel='Government services'>"
            ]
          },
          "metadata": {},
          "execution_count": 96
        },
        {
          "output_type": "display_data",
          "data": {
            "text/plain": [
              "<Figure size 640x480 with 1 Axes>"
            ],
            "image/png": "[encoded data removed]"
          },
          "metadata": {}
        }
      ]
    },
    {
      "cell_type": "markdown",
      "source": [
        "We can see that \"Desarrollo Social\" is getting the most of the share from the total budget of goverment. Now let’s plot this data into a donut plot to have a clear view of the distribution of funds among all goverment services.\n"
      ],
      "metadata": {
        "id": "tzzg-_2NRVNo"
      }
    },
    {
      "cell_type": "code",
      "source": [
        "df_pie = groups\n",
        "labels = df.groupby(\"DESC_GPO_FUNCIONAL\").sum().index\n",
        "plt.figure(figsize=(7,7))\n",
        "plt.pie(df_pie, labels=labels, autopct='%1.1f%%', startangle=90, pctdistance=0.85, shadow =True)\n",
        "central_circle = plt.Circle((0, 0), 0.5, color='white')\n",
        "fig = plt.gcf()\n",
        "fig.gca().add_artist(central_circle)\n",
        "plt.rc('font', size=12)\n",
        "plt.title(\"Distribution of The Budget\", fontsize=20)\n",
        "plt.show()"
      ],
      "metadata": {
        "colab": {
          "base_uri": "https://localhost:8080/",
          "height": 606
        },
        "id": "haGIwxeo-b3_",
        "outputId": "87f2e3c2-61c0-432c-aa15-ce8d600451e7"
      },
      "execution_count": 97,
      "outputs": [
        {
          "output_type": "display_data",
          "data": {
            "text/plain": [
              "<Figure size 700x700 with 1 Axes>"
            ],
            "image/png": "[encoded data removed]"
          },
          "metadata": {}
        }
      ]
    },
    {
      "cell_type": "markdown",
      "source": [
        "## Conclusion\n",
        "\n",
        "We can see that the \"desarrollo social\" is getting 52.6 % of the founds\n"
      ],
      "metadata": {
        "id": "YANm774GRvm2"
      }
    },
    {
      "cell_type": "code",
      "source": [],
      "metadata": {
        "id": "hjwG5cPTSCZc"
      },
      "execution_count": null,
      "outputs": []
    }
  ]
}